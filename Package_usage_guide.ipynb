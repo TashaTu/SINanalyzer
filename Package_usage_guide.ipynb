{
 "cells": [
  {
   "cell_type": "markdown",
   "metadata": {},
   "source": [
    "# **Package Usage Guide**"
   ]
  },
  {
   "cell_type": "markdown",
   "metadata": {},
   "source": [
    "## **1. Introduction**\n",
    "Welcome to the **SINanalyzer** usage guide! \n",
    "\n",
    "This package enables personalized biological network construction, \n",
    "allowing users to model gene-gene interactions within a biological network. \n",
    "\n",
    "Specifically, it supports selecting specific genes to build targeted, individualized networks. \n",
    "The package provides multiple methods to customize and generate networks tailored to your research needs.\n",
    "\n",
    "This notebook provides a comprehensive overview of installation, setup, and examples for getting started.\n"
   ]
  },
  {
   "cell_type": "markdown",
   "metadata": {},
   "source": [
    "## **2. Installation** \n",
    "1. Use the following command to clone this repository and install locally\n"
   ]
  },
  {
   "cell_type": "code",
   "execution_count": null,
   "metadata": {
    "vscode": {
     "languageId": "shellscript"
    }
   },
   "outputs": [],
   "source": [
    "git clone https://github.com/TashaTu/SINanalyzer.git\n",
    "cd SINanalyzer"
   ]
  },
  {
   "cell_type": "markdown",
   "metadata": {},
   "source": [
    "2. Create a virtual environment (optional but recommended)"
   ]
  },
  {
   "cell_type": "code",
   "execution_count": null,
   "metadata": {
    "vscode": {
     "languageId": "shellscript"
    }
   },
   "outputs": [],
   "source": [
    "python3 -m venv env\n",
    "source env/bin/activate  # For MacOS/Linux\n",
    "# OR\n",
    "env\\Scripts\\activate # For Windows (CMD)\n",
    "# OR\n",
    ".\\env\\Scripts\\activate   # For Windows (Powershell)"
   ]
  },
  {
   "cell_type": "markdown",
   "metadata": {},
   "source": [
    "3. Install the package"
   ]
  },
  {
   "cell_type": "code",
   "execution_count": null,
   "metadata": {
    "vscode": {
     "languageId": "shellscript"
    }
   },
   "outputs": [],
   "source": [
    "pip install ."
   ]
  },
  {
   "cell_type": "markdown",
   "metadata": {},
   "source": [
    "## **3. Quick Start**\n",
    "Let's start with a simple example to explore the basic functionalities of this package. "
   ]
  },
  {
   "cell_type": "markdown",
   "metadata": {},
   "source": [
    "Before diving into the package functionality, ensure you have an appropriate **gene expression matrix (GEM)** prepared. \n",
    "This matrix should contain genes as rows and samples as columns, with each cell representing the expression level of a particular gene in a specific sample.\n",
    "\n",
    "### **Example Gene Expression Matrix (GEM)**\n",
    "To illustrate, the GEM might look something like this:\n",
    "\n",
    "| Gene/Sample | Sample1 | Sample2 | Sample3 | ... |\n",
    "|-------------|---------|---------|---------|-----|\n",
    "| Gene1       | 5.3     | 6.7     | 4.2     | ... |\n",
    "| Gene2       | 8.1     | 7.4     | 6.0     | ... |\n",
    "| Gene3       | 3.4     | 5.1     | 4.8     | ... |\n",
    "| ...         | ...     | ...     | ...     | ... |\n",
    "\n",
    "**Note**: Ensure your GEM is correctly formatted, as it will be the basis for constructing the personalized biological networks.\n",
    "\n",
    "### **Loading the GEM into the Package**\n",
    "To start, load your GEM data into the package. This can typically be done using `pandas` or similar data-handling libraries if your data is in TXT or TSV format:\n"
   ]
  },
  {
   "cell_type": "code",
   "execution_count": 1,
   "metadata": {},
   "outputs": [
    {
     "name": "stderr",
     "output_type": "stream",
     "text": [
      "/Users/tashatu/anaconda3/lib/python3.11/site-packages/pandas/core/arrays/masked.py:60: UserWarning: Pandas requires version '1.3.6' or newer of 'bottleneck' (version '1.3.5' currently installed).\n",
      "  from pandas.core import (\n"
     ]
    },
    {
     "name": "stdout",
     "output_type": "stream",
     "text": [
      "           TCGA-KN-8435-01A-11R-2315-07  TCGA-KL-8327-01A-11R-2315-07  \\\n",
      "gene                                                                    \n",
      "100130426                      0.440846                      0.958583   \n",
      "100133144                      4.972647                      1.937420   \n",
      "100134869                      4.817618                      0.000000   \n",
      "10357                          6.026074                      5.584963   \n",
      "10431                          9.369173                     10.098405   \n",
      "\n",
      "           TCGA-KN-8434-01A-11R-2315-07  TCGA-KL-8337-01A-11R-2315-07  \\\n",
      "gene                                                                    \n",
      "100130426                      0.510050                      0.836247   \n",
      "100133144                      2.840161                      1.534609   \n",
      "100134869                      3.311140                      2.473267   \n",
      "10357                          5.461057                      5.816039   \n",
      "10431                          9.393508                      9.180833   \n",
      "\n",
      "           TCGA-KN-8436-01A-11R-2315-07  TCGA-KN-8437-01A-11R-2315-07  \\\n",
      "gene                                                                    \n",
      "100130426                      0.000000                      0.000000   \n",
      "100133144                      4.192368                      1.887915   \n",
      "100134869                      4.482984                      2.921684   \n",
      "10357                          6.972629                      5.994489   \n",
      "10431                         10.487882                     10.006314   \n",
      "\n",
      "           TCGA-KL-8326-01A-11R-2315-07  TCGA-KL-8328-01A-11R-2315-07  \\\n",
      "gene                                                                    \n",
      "100130426                      0.000000                      0.000000   \n",
      "100133144                      1.430660                      1.468375   \n",
      "100134869                      3.603846                      3.826325   \n",
      "10357                          6.309956                      5.757778   \n",
      "10431                         10.475546                      9.950147   \n",
      "\n",
      "           TCGA-KN-8433-01A-11R-2315-07  TCGA-KL-8330-01A-11R-2315-07  ...  \\\n",
      "gene                                                                   ...   \n",
      "100130426                      1.268913                      0.000000  ...   \n",
      "100133144                      3.198023                      2.652854  ...   \n",
      "100134869                      4.947465                      2.901437  ...   \n",
      "10357                          4.996005                      5.760176  ...   \n",
      "10431                          9.782998                      9.356866  ...   \n",
      "\n",
      "           TCGA-KN-8432-11A-01R-2315-07  TCGA-KN-8433-11A-01R-2315-07  \\\n",
      "gene                                                                    \n",
      "100130426                      0.000000                      0.000000   \n",
      "100133144                      2.708342                      2.840947   \n",
      "100134869                      3.368098                      3.949171   \n",
      "10357                          7.759653                      6.675925   \n",
      "10431                         10.348972                      9.793232   \n",
      "\n",
      "           TCGA-KN-8434-11A-01R-2315-07  TCGA-KL-8339-11A-01R-2315-07  \\\n",
      "gene                                                                    \n",
      "100130426                      0.427499                      0.000000   \n",
      "100133144                      0.995231                      2.851539   \n",
      "100134869                      3.220345                      3.346617   \n",
      "10357                          6.493340                      6.727821   \n",
      "10431                          9.898499                     10.446070   \n",
      "\n",
      "           TCGA-KN-8422-11A-01R-2315-07  TCGA-KL-8329-11A-01R-2315-07  \\\n",
      "gene                                                                    \n",
      "100130426                      0.000000                      0.000000   \n",
      "100133144                      2.225830                      2.232507   \n",
      "100134869                      3.333066                      2.859632   \n",
      "10357                          6.913349                      6.340601   \n",
      "10431                          9.601109                      9.922619   \n",
      "\n",
      "           TCGA-KL-8326-11A-01R-2315-07  TCGA-KL-8324-11A-01R-2315-07  \\\n",
      "gene                                                                    \n",
      "100130426                      0.000000                      0.000000   \n",
      "100133144                      2.400292                      3.035430   \n",
      "100134869                      3.209547                      2.781884   \n",
      "10357                          6.858495                      6.835466   \n",
      "10431                         10.135059                      9.856449   \n",
      "\n",
      "           TCGA-KL-8336-11A-01R-2315-07  TCGA-KL-8332-11A-01R-2315-07  \n",
      "gene                                                                   \n",
      "100130426                      0.000000                      1.128821  \n",
      "100133144                      2.272441                      0.810237  \n",
      "100134869                      3.061102                      3.215461  \n",
      "10357                          6.412007                      6.848359  \n",
      "10431                          9.842630                     10.637006  \n",
      "\n",
      "[5 rows x 90 columns]\n"
     ]
    }
   ],
   "source": [
    "import pandas as pd\n",
    "\n",
    "# Load GEM (gene expression matrix) from a TSV file\n",
    "gem = pd.read_csv('tests/KICH_all.txt', sep='\\t', header=0, index_col=0)\n",
    "print(gem.head())  # Check the first few rows to confirm data structure"
   ]
  },
  {
   "cell_type": "markdown",
   "metadata": {},
   "source": [
    "### **Running SiNE to Construct a Personalized Network**\n",
    "Now that we have the gene expression matrix (GEM), we can proceed with using the **SiNE** method. \n",
    "The following example will guide you through configuring and running SiNE with the appropriate parameters."
   ]
  },
  {
   "cell_type": "markdown",
   "metadata": {},
   "source": [
    "**Note**: If `output_format` is not specified, the output will default to the `npz` format. Additionally, a `Gene_index_mapping_table.txt` file will be provided as a reference."
   ]
  },
  {
   "cell_type": "code",
   "execution_count": 1,
   "metadata": {},
   "outputs": [
    {
     "name": "stderr",
     "output_type": "stream",
     "text": [
      "/Users/tashatu/anaconda3/lib/python3.11/site-packages/pandas/core/arrays/masked.py:60: UserWarning: Pandas requires version '1.3.6' or newer of 'bottleneck' (version '1.3.5' currently installed).\n",
      "  from pandas.core import (\n"
     ]
    },
    {
     "name": "stdout",
     "output_type": "stream",
     "text": [
      "Step 1 : weight calculation\n",
      "-> Sample weight calculation ... Done\n",
      "Step 2 : mean calculation\n",
      "-> Data preprocessing ... Done\n",
      "-> Aggregate network construction ... Done\n"
     ]
    },
    {
     "name": "stderr",
     "output_type": "stream",
     "text": [
      "/Users/tashatu/anaconda3/lib/python3.11/site-packages/numpy/lib/function_base.py:2897: RuntimeWarning: invalid value encountered in divide\n",
      "  c /= stddev[:, None]\n",
      "/Users/tashatu/anaconda3/lib/python3.11/site-packages/numpy/lib/function_base.py:2898: RuntimeWarning: invalid value encountered in divide\n",
      "  c /= stddev[None, :]\n"
     ]
    },
    {
     "name": "stdout",
     "output_type": "stream",
     "text": [
      "-> Mean of edge scores calculation ... Done\n",
      "-> Mean = 0.03033256360451698\n",
      "Step 3 : standard calculation\n",
      "-> Data preprocessing ... Done\n",
      "-> Aggregate network construction ... Done\n",
      "-> Standard of edge scores calculation ... Done\n",
      "-> Standard = 0.26139335457714413\n",
      "Step 4 : network construction\n",
      "-> Data preprocessing ... Done\n",
      "-> Gene index mapping table ... Done\n",
      "-> Aggregate network construction ... Done\n",
      "-> Single-sample network construction ... Done\n"
     ]
    }
   ],
   "source": [
    "from SINanalyzer import integrated_network_construction\n",
    "import pandas as pd\n",
    "\n",
    "# Define the file path to your gene expression matrix\n",
    "gem_path = 'tests/KICH_all.txt'  # Update this path with the location of your GEM file\n",
    "gem = pd.read_csv(gem_path, sep='\\t', header=0, index_col=0)\n",
    "\n",
    "# Example: specify a subset of genes (or set to None to include all)\n",
    "gene_df = pd.read_csv('tests/gene_set_100.txt', sep='\\t', header=0, index_col=0)\n",
    "gene_set =  list(gene_df.index)\n",
    "sample_df = pd.read_csv('tests/sample_list_10.txt', sep='\\t', header=0, index_col=0)\n",
    "sample_list = list(sample_df.index)\n",
    "outdir = 'tests/SiNE_SIN'  # Specify an output directory for results\n",
    "\n",
    "# Run SiNE with the specified parameters\n",
    "integrated_network_construction.network_construction(case_data=gem,method=\"SiNE\",gene_set=gene_set,sample_list=sample_list,outdir=outdir,output_format=\"npz\")"
   ]
  },
  {
   "cell_type": "markdown",
   "metadata": {},
   "source": [
    "### **Running SSN to Construct a Personalized Network**\n",
    "Now that we have the gene expression matrices (GEM) for both **case** and **control** datasets, we can proceed with using the **SSN** method.\n",
    "The following example will guide you through configuring and running **SSN** with the appropriate parameters, which requires preparing data for both **case** and **control** categories."
   ]
  },
  {
   "cell_type": "markdown",
   "metadata": {},
   "source": [
    "This time, let's output the `edge_list_zscore` format to see the results."
   ]
  },
  {
   "cell_type": "code",
   "execution_count": 15,
   "metadata": {},
   "outputs": [
    {
     "name": "stdout",
     "output_type": "stream",
     "text": [
      "-> Data preprocessing ... Done\n",
      "-> Aggregate network construction ... Done\n",
      "-> Single-sample network construction ... Done\n"
     ]
    },
    {
     "name": "stderr",
     "output_type": "stream",
     "text": [
      "/Users/tashatu/anaconda3/lib/python3.11/site-packages/numpy/lib/function_base.py:2897: RuntimeWarning: invalid value encountered in divide\n",
      "  c /= stddev[:, None]\n",
      "/Users/tashatu/anaconda3/lib/python3.11/site-packages/numpy/lib/function_base.py:2898: RuntimeWarning: invalid value encountered in divide\n",
      "  c /= stddev[None, :]\n"
     ]
    }
   ],
   "source": [
    "from SINanalyzer import integrated_network_construction\n",
    "import pandas as pd\n",
    "\n",
    "# Define the file path to your gene expression matrix\n",
    "gem_case_path = 'tests/KICH_tumor.txt'  # Update this path with the location of your GEM file\n",
    "gem_case = pd.read_csv(gem_case_path, sep='\\t', header=0, index_col=0)\n",
    "gem_control_path = 'tests/KICH_normal.txt'  # Update this path with the location of your GEM file\n",
    "gem_control = pd.read_csv(gem_control_path, sep='\\t', header=0, index_col=0)\n",
    "\n",
    "# Example: specify a subset of genes (or set to None to include all)\n",
    "gene_df = pd.read_csv('tests/gene_set_100.txt', sep='\\t', header=0, index_col=0)\n",
    "gene_set =  list(gene_df.index)\n",
    "sample_df = pd.read_csv('tests/sample_list_10.txt', sep='\\t', header=0, index_col=0)\n",
    "sample_list = list(sample_df.index)\n",
    "outdir = 'tests/SSN_SIN'  # Specify an output directory for results\n",
    "\n",
    "# Run SiNE with the specified parameters\n",
    "integrated_network_construction.network_construction(case_data=gem_case,control_data=gem_control,method=\"SSN\",gene_set=gene_set,sample_list=sample_list,outdir=outdir,output_format=\"edge_list_zscore\")"
   ]
  },
  {
   "cell_type": "markdown",
   "metadata": {},
   "source": [
    "### **Visualizing a Personalized Network** ###\n",
    "After successfully constructing a personalized network in the previous step, we now proceed to visualize it. This example demonstrates how to use the **Pyvis** package, a powerful tool for creating interactive network visualizations. \n"
   ]
  },
  {
   "cell_type": "code",
   "execution_count": 14,
   "metadata": {},
   "outputs": [
    {
     "name": "stdout",
     "output_type": "stream",
     "text": [
      "Warning: When  cdn_resources is 'local' jupyter notebook has issues displaying graphics on chrome/safari. Use cdn_resources='in_line' or cdn_resources='remote' if you have issues viewing graphics in a notebook.\n",
      "The network graph has been saved to tests/SiNE_SIN/TCGA-KN-8436-01A-11R-2315-07.html\n"
     ]
    }
   ],
   "source": [
    "from SINanalyzer import network_visualization\n",
    "\n",
    "file_path = f'tests/SiNE_SIN/TCGA-KN-8436-01A-11R-2315-07.npz'\n",
    "gene_label = f'tests/SiNE_SIN/Gene_index_mapping_table.txt'\n",
    "save_file_path = f'tests/SiNE_SIN/TCGA-KN-8436-01A-11R-2315-07.html'\n",
    "network_visualization.graph_plot(file_path, gene_label=gene_label, save_file_path=save_file_path, input_format=\"npz\")"
   ]
  }
 ],
 "metadata": {
  "kernelspec": {
   "display_name": "Python 3",
   "language": "python",
   "name": "python3"
  },
  "language_info": {
   "codemirror_mode": {
    "name": "ipython",
    "version": 3
   },
   "file_extension": ".py",
   "mimetype": "text/x-python",
   "name": "python",
   "nbconvert_exporter": "python",
   "pygments_lexer": "ipython3",
   "version": "3.11.4"
  }
 },
 "nbformat": 4,
 "nbformat_minor": 2
}
